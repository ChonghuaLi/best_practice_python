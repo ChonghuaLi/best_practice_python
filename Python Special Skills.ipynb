{
 "cells": [
  {
   "cell_type": "code",
   "execution_count": 3,
   "metadata": {},
   "outputs": [
    {
     "name": "stdout",
     "output_type": "stream",
     "text": [
      "Hello, World 123!\n"
     ]
    }
   ],
   "source": [
    "# 上下文管理器会在执行完毕后自动关闭文件，无需手动调用 file.close()，避免资源泄露\n",
    "with open('file.txt', 'w') as file:\n",
    "     file.write('Hello, World 123!')\n",
    "with open('file.txt', 'r') as file:\n",
    "     content = file.read()\n",
    "print(content)  # Hello, World!"
   ]
  },
  {
   "cell_type": "code",
   "execution_count": 1,
   "metadata": {},
   "outputs": [
    {
     "name": "stdout",
     "output_type": "stream",
     "text": [
      "[0, 1, 4, 9, 16, 25, 36, 49, 64, 81]\n"
     ]
    }
   ],
   "source": [
    "squares = (x ** 2 for x in range(10))\n",
    "print(list(squares))  # [0, 1, 4, 9, 16, 25, 36, 49, 64, 81]"
   ]
  },
  {
   "cell_type": "code",
   "execution_count": 2,
   "metadata": {},
   "outputs": [
    {
     "name": "stdout",
     "output_type": "stream",
     "text": [
      "Something is happening before the function is called.\n",
      "Hello!\n",
      "Something is happening after the function is called.\n"
     ]
    }
   ],
   "source": [
    "def my_decorator(func):\n",
    "     def wrapper():\n",
    "         print(\"Something is happening before the function is called.\")\n",
    "         func()\n",
    "         print(\"Something is happening after the function is called.\")\n",
    "     return wrapper\n",
    "@my_decorator\n",
    "def say_hello():\n",
    "     print(\"Hello!\")\n",
    "say_hello()  # Something is happening before the function is called. \\n Hello! \\n Something is happening after the function is called."
   ]
  },
  {
   "cell_type": "code",
   "execution_count": 3,
   "metadata": {},
   "outputs": [
    {
     "name": "stdout",
     "output_type": "stream",
     "text": [
      "Arguments: (1, 2, 3)\n",
      "Keyword Arguments: {'a': 4, 'b': 5}\n"
     ]
    }
   ],
   "source": [
    "def my_function(*args, **kwargs):\n",
    "     print(\"Arguments:\", args)\n",
    "     print(\"Keyword Arguments:\", kwargs)\n",
    "my_function(1, 2, 3, a=4, b=5)  # Arguments: (1, 2, 3) \\n Keyword Arguments: {'a': 4, 'b': 5}"
   ]
  }
 ],
 "metadata": {
  "kernelspec": {
   "display_name": "py39",
   "language": "python",
   "name": "python3"
  },
  "language_info": {
   "codemirror_mode": {
    "name": "ipython",
    "version": 3
   },
   "file_extension": ".py",
   "mimetype": "text/x-python",
   "name": "python",
   "nbconvert_exporter": "python",
   "pygments_lexer": "ipython3",
   "version": "3.9.20"
  }
 },
 "nbformat": 4,
 "nbformat_minor": 2
}
